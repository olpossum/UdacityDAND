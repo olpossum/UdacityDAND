{
 "cells": [
  {
   "cell_type": "markdown",
   "metadata": {},
   "source": [
    "## Introduction\n",
    "\n",
    "For this project I have chosen to investigate the Sean Lahman baseball dataset containing batting and pitching statistics from 1871 to 2016, plus fielding statistics, standings, team stats, managerial records, post-season data, and more.\n",
    "\n",
    "I would like to use this project to illustrate what I have learned in the first module of the Udacity Data Analysis Nanodegree: Introduction to Data Analysis.\n",
    "\n",
    "1. Formulating Questions\n",
    "2. Data Wrangling\n",
    "3. Drawing Conclusions\n",
    "4. Communication of Findings"
   ]
  },
  {
   "cell_type": "markdown",
   "metadata": {},
   "source": [
    "### Step 1: Forumulating Questions\n",
    "\n",
    "Taking a look at the csv dataset I see that it contains a large quantity of statistical information that could be used to answer many questions. Below are two that are interesting to me.\n",
    "\n",
    "1. Is there any overall correlation between a pitcher's ERA and thier salary?\n",
    "2. Is there any correlation between a player's batting average and thier salary?\n",
    "\n",
    "From here it is a good idea to list the .csv files that I will need to answer my questions. I think the following will be sufficient:\n",
    "\n",
    "#### Q1\n",
    "1. Pitching.csv - Contains individual player pitching data\n",
    "2. Salaries.csv - Contains individual player salary data\n",
    "\n",
    "#### Q2\n",
    "1. Batting.csv - Contains individual player batting data \\**\n",
    "2. Salaries.csv - Contains individual player salary data\n",
    "\n",
    "\\** note that Batting.csv does not contain batting average as a column. We will need to compute it."
   ]
  },
  {
   "cell_type": "markdown",
   "metadata": {},
   "source": [
    "### Step 2: Data Wrangling\n",
    "\n",
    "Now we can start the data wrangling process. First lets import all of the csv data into individual pandas dataframes and take a look at what we are working with."
   ]
  },
  {
   "cell_type": "code",
   "execution_count": 1,
   "metadata": {
    "collapsed": true
   },
   "outputs": [],
   "source": [
    "%matplotlib inline\n",
    "\n",
    "import pandas as pd\n",
    "import numpy as np\n",
    "import matplotlib as mp\n",
    "import matplotlib.pyplot as plt\n",
    "import csv\n",
    "import os\n",
    "\n",
    "datapath = os.path.normpath('C:\\\\Users\\\\Andy\\\\Documents\\\\PythonScripts_Laptop\\\\Udacity\\\\Project1\\\\baseballdatabank-2017.1\\\\baseballdatabank-2017.1\\\\core\\\\')"
   ]
  },
  {
   "cell_type": "code",
   "execution_count": 2,
   "metadata": {
    "collapsed": true
   },
   "outputs": [],
   "source": [
    "Pitching_df = pd.read_csv(os.path.join(datapath,'Pitching.csv'))\n",
    "Salaries_df = pd.read_csv(os.path.join(datapath,'Salaries.csv'))\n",
    "Batting_df = pd.read_csv(os.path.join(datapath,'Batting.csv'))"
   ]
  },
  {
   "cell_type": "code",
   "execution_count": 3,
   "metadata": {},
   "outputs": [
    {
     "name": "stdout",
     "output_type": "stream",
     "text": [
      "Pitching\n",
      "    playerID  yearID  stint teamID lgID   W   L   G  GS  CG  ...   IBB  WP  \\\n",
      "0  bechtge01    1871      1    PH1  NaN   1   2   3   3   2  ...   NaN NaN   \n",
      "1  brainas01    1871      1    WS3  NaN  12  15  30  30  30  ...   NaN NaN   \n",
      "2  fergubo01    1871      1    NY2  NaN   0   0   1   0   0  ...   NaN NaN   \n",
      "3  fishech01    1871      1    RC1  NaN   4  16  24  24  22  ...   NaN NaN   \n",
      "4  fleetfr01    1871      1    NY2  NaN   0   1   1   1   1  ...   NaN NaN   \n",
      "\n",
      "   HBP  BK  BFP  GF    R  SH  SF  GIDP  \n",
      "0  NaN   0  NaN NaN   42 NaN NaN   NaN  \n",
      "1  NaN   0  NaN NaN  292 NaN NaN   NaN  \n",
      "2  NaN   0  NaN NaN    9 NaN NaN   NaN  \n",
      "3  NaN   0  NaN NaN  257 NaN NaN   NaN  \n",
      "4  NaN   0  NaN NaN   21 NaN NaN   NaN  \n",
      "\n",
      "[5 rows x 30 columns]\n",
      "\n",
      "\n",
      "Salaries\n",
      "   yearID teamID lgID   playerID  salary\n",
      "0    1985    ATL   NL  barkele01  870000\n",
      "1    1985    ATL   NL  bedrost01  550000\n",
      "2    1985    ATL   NL  benedbr01  545000\n",
      "3    1985    ATL   NL   campri01  633333\n",
      "4    1985    ATL   NL  ceronri01  625000\n",
      "\n",
      "\n",
      "Batting\n",
      "    playerID  yearID  stint teamID lgID   G   AB   R   H  2B  ...    RBI   SB  \\\n",
      "0  abercda01    1871      1    TRO  NaN   1    4   0   0   0  ...    0.0  0.0   \n",
      "1   addybo01    1871      1    RC1  NaN  25  118  30  32   6  ...   13.0  8.0   \n",
      "2  allisar01    1871      1    CL1  NaN  29  137  28  40   4  ...   19.0  3.0   \n",
      "3  allisdo01    1871      1    WS3  NaN  27  133  28  44  10  ...   27.0  1.0   \n",
      "4  ansonca01    1871      1    RC1  NaN  25  120  29  39  11  ...   16.0  6.0   \n",
      "\n",
      "    CS  BB   SO  IBB  HBP  SH  SF  GIDP  \n",
      "0  0.0   0  0.0  NaN  NaN NaN NaN   NaN  \n",
      "1  1.0   4  0.0  NaN  NaN NaN NaN   NaN  \n",
      "2  1.0   2  5.0  NaN  NaN NaN NaN   NaN  \n",
      "3  1.0   0  2.0  NaN  NaN NaN NaN   NaN  \n",
      "4  2.0   2  1.0  NaN  NaN NaN NaN   NaN  \n",
      "\n",
      "[5 rows x 22 columns]\n",
      "\n",
      "\n"
     ]
    }
   ],
   "source": [
    "print(\"Pitching\")\n",
    "print(Pitching_df.head())\n",
    "print(\"\\n\")\n",
    "\n",
    "print(\"Salaries\")\n",
    "print(Salaries_df.head())\n",
    "print(\"\\n\")\n",
    "\n",
    "print(\"Batting\")\n",
    "print(Batting_df.head())\n",
    "print(\"\\n\")"
   ]
  },
  {
   "cell_type": "markdown",
   "metadata": {},
   "source": [
    "Immediately I can see some properties of the data that we are going to need to keep in mind:\n",
    "\n",
    "1. Pitching and Batting data both start in the same year, 1871. This is good!\n",
    "2. Salary data starts in 1985, this might pose a problem.\n",
    "3. Again, we will need to compute the batting average for each player in order to answer question 3.\n",
    "\n",
    "Note: three common keys that could be helpful to keep in mind: playerId, yearID and teamID.  "
   ]
  },
  {
   "cell_type": "markdown",
   "metadata": {},
   "source": [
    "Lets start by computing the batting average for each player in Batting_df. First we should figure out the formula for computing the batting average. \n",
    "\n",
    "$$AVG=HITS/ATBATS$$\n",
    "\n",
    "Hits is just a sum of all times a player reached 1st, 2nd, 3rd base or hit a home run. It looks like this is provided for us in Batting_df['H']\n",
    "\n",
    "We can accomplish this by dividing the relevant columns of the Batting_df dataframe and appending the output to a new column 'BAVG'. Also, batting averages are expressed traditionally to 3 decimal places so we can use apply/lambda to round our new column in an efficient manner."
   ]
  },
  {
   "cell_type": "code",
   "execution_count": 4,
   "metadata": {},
   "outputs": [
    {
     "name": "stdout",
     "output_type": "stream",
     "text": [
      "count    87435.000000\n",
      "mean         0.208783\n",
      "std          0.122413\n",
      "min          0.000000\n",
      "25%          0.147000\n",
      "50%          0.231000\n",
      "75%          0.274000\n",
      "max          1.000000\n",
      "Name: BAVG, dtype: float64\n"
     ]
    }
   ],
   "source": [
    "Batting_df['BAVG'] = Batting_df['H']/Batting_df['AB']\n",
    "\n",
    "Batting_df['BAVG'] = Batting_df['BAVG'].apply(lambda x: round(x,3))\n",
    "\n",
    "print(Batting_df['BAVG'].describe())\n"
   ]
  },
  {
   "cell_type": "markdown",
   "metadata": {},
   "source": [
    "Next lets merge Salaries_df, Pitching_df and Batting_df on playerID, yearID and teamID in a way that helps us answer Q2 and Q3. \n",
    "\n",
    "Since we do not care about data that does not include salary, we can create two separate dataframes using pandas merge.  If we utilize the merge left_on features with the right keys, we can drop data that does not include entries in both datasets; therefore dropping all data that does not have relevant salary information."
   ]
  },
  {
   "cell_type": "code",
   "execution_count": 5,
   "metadata": {},
   "outputs": [
    {
     "name": "stdout",
     "output_type": "stream",
     "text": [
      "count    26431.000000\n",
      "mean      2000.878400\n",
      "std          8.908878\n",
      "min       1985.000000\n",
      "25%       1994.000000\n",
      "50%       2001.000000\n",
      "75%       2009.000000\n",
      "max       2016.000000\n",
      "Name: yearID, dtype: float64\n",
      "\n",
      "\n",
      "count    2.643100e+04\n",
      "mean     2.085549e+06\n",
      "std      3.455172e+06\n",
      "min      0.000000e+00\n",
      "25%      2.944040e+05\n",
      "50%      5.500000e+05\n",
      "75%      2.350000e+06\n",
      "max      3.300000e+07\n",
      "Name: salary, dtype: float64\n",
      "\n",
      "\n",
      "count    11792.000000\n",
      "mean         4.743864\n",
      "std          3.557083\n",
      "min          0.000000\n",
      "25%          3.320000\n",
      "50%          4.200000\n",
      "75%          5.310000\n",
      "max        108.000000\n",
      "Name: ERA, dtype: float64\n",
      "\n",
      "\n",
      "count    26437.000000\n",
      "mean      2000.878012\n",
      "std          8.907966\n",
      "min       1985.000000\n",
      "25%       1994.000000\n",
      "50%       2001.000000\n",
      "75%       2009.000000\n",
      "max       2016.000000\n",
      "Name: yearID, dtype: float64\n",
      "\n",
      "\n",
      "count    2.643700e+04\n",
      "mean     2.085160e+06\n",
      "std      3.454878e+06\n",
      "min      0.000000e+00\n",
      "25%      2.937500e+05\n",
      "50%      5.500000e+05\n",
      "75%      2.350000e+06\n",
      "max      3.300000e+07\n",
      "Name: salary, dtype: float64\n",
      "\n",
      "\n",
      "count    19620.000000\n",
      "mean         0.211257\n",
      "std          0.119723\n",
      "min          0.000000\n",
      "25%          0.159000\n",
      "50%          0.242000\n",
      "75%          0.276000\n",
      "max          1.000000\n",
      "Name: BAVG, dtype: float64\n",
      "\n",
      "\n"
     ]
    }
   ],
   "source": [
    "Q1_df = Salaries_df.merge(Pitching_df,how='left',on=['playerID','yearID','teamID','lgID'])\n",
    "Q2_df = Salaries_df.merge(Batting_df,how='left',on=['playerID','yearID','teamID','lgID'])\n",
    "\n",
    "print(Q1_df['yearID'].describe())\n",
    "print(\"\\n\")\n",
    "print(Q1_df['salary'].describe())\n",
    "print(\"\\n\")\n",
    "print(Q1_df['ERA'].describe())\n",
    "print(\"\\n\")\n",
    "\n",
    "print(Q2_df['yearID'].describe())\n",
    "print(\"\\n\")\n",
    "print(Q2_df['salary'].describe())\n",
    "print(\"\\n\")\n",
    "print(Q2_df['BAVG'].describe())\n",
    "print(\"\\n\")"
   ]
  },
  {
   "cell_type": "markdown",
   "metadata": {},
   "source": [
    "As we had hoped, the datasets start in the year 1985 and all include a salary component. The only thing that jumps out is the MAX era shows as 108! This is a pretty terrible stat. We should probably check it out to make sure that this is not erroneous data.\n",
    "\n",
    "$$ERA= 9 * (Earned Runs/Innings Pitched)$$\n",
    "\n",
    "The Pitching_df contains IPouts which is equal to Innings Pitched * 3 (there are 3 outs per inning and pitchers can be pulled in the middle of an inning for various reasons...)\n",
    "\n",
    "This means we will need to divid IPouts by 3 to get the proper number for the ERA calculation."
   ]
  },
  {
   "cell_type": "code",
   "execution_count": 6,
   "metadata": {},
   "outputs": [
    {
     "name": "stdout",
     "output_type": "stream",
     "text": [
      "10969    4.0\n",
      "23467    4.0\n",
      "Name: ER, dtype: float64\n",
      "10969    1.0\n",
      "23467    1.0\n",
      "Name: IPouts, dtype: float64\n",
      "[10969    108.0\n",
      "23467    108.0\n",
      "dtype: float64]\n"
     ]
    }
   ],
   "source": [
    "locator = Q1_df[Q1_df['ERA'] == 108].index\n",
    "\n",
    "print(Q1_df['ER'].loc[locator])\n",
    "print(Q1_df['IPouts'].loc[locator])\n",
    "\n",
    "print([9*Q1_df['ER'].loc[locator]/(Q1_df['IPouts'].loc[locator]/3)])"
   ]
  },
  {
   "cell_type": "markdown",
   "metadata": {},
   "source": [
    "Looks like this data is reasonable and these two pitchers had equally bad innings and equally short careers!"
   ]
  },
  {
   "cell_type": "markdown",
   "metadata": {},
   "source": [
    "### Step 3: Drawing Conclusions\n",
    "\n",
    "Now that we are happy with our data, its time to dig in and start analyzing.  Lets start by restating our questions:\n",
    "\n",
    "1. Is there any overall correlation between a pitcher's ERA and thier salary?\n",
    "2. Is there any correlation between a player's batting average and thier salary?\n",
    "\n",
    "#### Question 1\n",
    "\n",
    "Lets take a quick look at the pitching ERA and Salary in a matplotlib histogram. We can write a function here that takes in a dataframe and a key of interest and plots a histogram since we may want to do this multiple times with different keys."
   ]
  },
  {
   "cell_type": "code",
   "execution_count": 7,
   "metadata": {
    "collapsed": true
   },
   "outputs": [],
   "source": [
    "def plot_hist_from_df(dataframe,key):\n",
    "    print(\"Descriptive Stats For Key \\\"\" + str(key) +\"\\\"\\n\")\n",
    "    print(dataframe[key].describe())\n",
    "    dataframe[key].hist()"
   ]
  },
  {
   "cell_type": "code",
   "execution_count": 8,
   "metadata": {},
   "outputs": [
    {
     "name": "stdout",
     "output_type": "stream",
     "text": [
      "Descriptive Stats For Key \"ERA\"\n",
      "\n",
      "count    11792.000000\n",
      "mean         4.743864\n",
      "std          3.557083\n",
      "min          0.000000\n",
      "25%          3.320000\n",
      "50%          4.200000\n",
      "75%          5.310000\n",
      "max        108.000000\n",
      "Name: ERA, dtype: float64\n"
     ]
    },
    {
     "data": {
      "image/png": "[encoded data removed]",
      "text/plain": [
       "<matplotlib.figure.Figure at 0x433aa20>"
      ]
     },
     "metadata": {},
     "output_type": "display_data"
    }
   ],
   "source": [
    "#Call our stats/hist function for pitching ERA\n",
    "plot_hist_from_df(Q1_df,'ERA')"
   ]
  },
  {
   "cell_type": "code",
   "execution_count": 9,
   "metadata": {},
   "outputs": [
    {
     "name": "stdout",
     "output_type": "stream",
     "text": [
      "Descriptive Stats For Key \"salary\"\n",
      "\n",
      "count    2.643100e+04\n",
      "mean     2.085549e+06\n",
      "std      3.455172e+06\n",
      "min      0.000000e+00\n",
      "25%      2.944040e+05\n",
      "50%      5.500000e+05\n",
      "75%      2.350000e+06\n",
      "max      3.300000e+07\n",
      "Name: salary, dtype: float64\n"
     ]
    },
    {
     "data": {
      "image/png": "[encoded data removed]",
      "text/plain": [
       "<matplotlib.figure.Figure at 0x95d6748>"
      ]
     },
     "metadata": {},
     "output_type": "display_data"
    }
   ],
   "source": [
    "#Call our stats/hist function for pitching Salary\n",
    "plot_hist_from_df(Q1_df,'salary')"
   ]
  },
  {
   "cell_type": "markdown",
   "metadata": {},
   "source": [
    "From the two histograms above we can conclude (approximately) that the vast majority of pitchers have an ERA of <= 20, and are paid <= $10,000,000. This is an interesting conclusion, but I dont think we have enough here to say that the two variables are or are not correlated in any way..."
   ]
  },
  {
   "cell_type": "markdown",
   "metadata": {},
   "source": [
    "Since we want to look at correlation between two variables, this is a good opportunity to use Pearsons R as taught in this lesson.  This was a new concept for me so I am eager to practice it. We can start by outlining what Pearsons R is.\n",
    "\n",
    "Simply put, pearsons R is a way of standardizing data for two variables and measuring how negatively or positively they are correlated on a scale from -1 to 1.  If the Pearsons R shows a correlation of 0 then the variables are not correlated at all.\n",
    "\n",
    "Pearsons R is Calculated as follows:\n",
    "\n",
    "Step 1: Standardize our data.\n",
    "\n",
    "From the lesson we learned that to standardize the data we use the following code.\n",
    "\n",
    "std_x = (x-x.mean()) / x.std(ddof=0)  \n",
    "std_y = (y-y.mean()) / y.std(ddof=0)\n",
    "\n",
    "Step 2: Multiply the standardized data and take the mean.\n",
    "\n",
    "(std_x * std_y).mean()\n",
    "\n",
    "This will give us Pearsons R!  Lets assume that the Pitchers ERA is X and Salary is Y and try to apply this method to our data. We can write a function to calculate pearsons R for general X and Y dataframe variables and a given key."
   ]
  },
  {
   "cell_type": "code",
   "execution_count": 10,
   "metadata": {
    "collapsed": true
   },
   "outputs": [],
   "source": [
    "def pearsons_r(x,y,key_x,key_y):\n",
    "    #Calculation for Standardizing X\n",
    "    std_x = (x[key_x]-x[key_x].mean()) / x[key_x].std(ddof=0)\n",
    "    #Calculation for Standardizing Y\n",
    "    std_y = (y[key_y]-y[key_y].mean()) / y[key_y].std(ddof=0)\n",
    "    #Pearsons R\n",
    "    return(round((std_x * std_y).mean(),3))"
   ]
  },
  {
   "cell_type": "code",
   "execution_count": 11,
   "metadata": {},
   "outputs": [
    {
     "name": "stdout",
     "output_type": "stream",
     "text": [
      "-0.068\n"
     ]
    }
   ],
   "source": [
    "Pearson_ERA_Salary = pearsons_r(Q1_df,Q1_df,'ERA','salary')\n",
    "\n",
    "print(Pearson_ERA_Salary)"
   ]
  },
  {
   "cell_type": "markdown",
   "metadata": {},
   "source": [
    "Ok so it looks like there is not a strong correlation between a pitcher's ERA and their salary. To be sure we are doing our calculaton right, we can calculate Pearsons R for something we know should be strongly correlated and see what we come up with. How about innings pitched outs (IPouts) and earned runs (ER)?  I think it makes sense that statistically, the more innings you pitch the higher your earned runs will be."
   ]
  },
  {
   "cell_type": "code",
   "execution_count": 12,
   "metadata": {},
   "outputs": [
    {
     "name": "stdout",
     "output_type": "stream",
     "text": [
      "0.917\n"
     ]
    }
   ],
   "source": [
    "Pearson_IPouts_ER = pearsons_r(Q1_df,Q1_df,'IPouts','ER')\n",
    "\n",
    "print(Pearson_IPouts_ER)"
   ]
  },
  {
   "cell_type": "markdown",
   "metadata": {},
   "source": [
    "As expected there is a very strong correlation between innings pitched and earned runs.  I think we can safely conclude that there is no correlation between a Pitcher's ERA and how much they get paid."
   ]
  },
  {
   "cell_type": "markdown",
   "metadata": {},
   "source": [
    "#### Question 2\n",
    "\n",
    "Again lets take a quick look at the data in question, batting average and salary, using our previously defined stats/hist function."
   ]
  },
  {
   "cell_type": "code",
   "execution_count": 13,
   "metadata": {},
   "outputs": [
    {
     "name": "stdout",
     "output_type": "stream",
     "text": [
      "Descriptive Stats For Key \"BAVG\"\n",
      "\n",
      "count    19620.000000\n",
      "mean         0.211257\n",
      "std          0.119723\n",
      "min          0.000000\n",
      "25%          0.159000\n",
      "50%          0.242000\n",
      "75%          0.276000\n",
      "max          1.000000\n",
      "Name: BAVG, dtype: float64\n"
     ]
    },
    {
     "data": {
      "image/png": "[encoded data removed]",
      "text/plain": [
       "<matplotlib.figure.Figure at 0x95e3160>"
      ]
     },
     "metadata": {},
     "output_type": "display_data"
    }
   ],
   "source": [
    "#Call our stats/hist function for batter Batting Average\n",
    "plot_hist_from_df(Q2_df,'BAVG')"
   ]
  },
  {
   "cell_type": "code",
   "execution_count": 14,
   "metadata": {},
   "outputs": [
    {
     "name": "stdout",
     "output_type": "stream",
     "text": [
      "Descriptive Stats For Key \"salary\"\n",
      "\n",
      "count    2.643100e+04\n",
      "mean     2.085549e+06\n",
      "std      3.455172e+06\n",
      "min      0.000000e+00\n",
      "25%      2.944040e+05\n",
      "50%      5.500000e+05\n",
      "75%      2.350000e+06\n",
      "max      3.300000e+07\n",
      "Name: salary, dtype: float64\n"
     ]
    },
    {
     "data": {
      "image/png": "[encoded data removed]",
      "text/plain": [
       "<matplotlib.figure.Figure at 0x96076d8>"
      ]
     },
     "metadata": {},
     "output_type": "display_data"
    }
   ],
   "source": [
    "#Call our stats/hist function for batter Salary\n",
    "plot_hist_from_df(Q1_df,'salary')"
   ]
  },
  {
   "cell_type": "markdown",
   "metadata": {},
   "source": [
    "This time our batting average histogram produced an interesting shape!  It seems that the batter batting average majority settles in between 0.2 and 0.3, however there are non trivial numbers of batters with averages on either side of the peak.  Lets take a look at pearsons R again and see if they are correlated."
   ]
  },
  {
   "cell_type": "code",
   "execution_count": 15,
   "metadata": {},
   "outputs": [
    {
     "name": "stdout",
     "output_type": "stream",
     "text": [
      "0.057\n"
     ]
    }
   ],
   "source": [
    "Pearson_BAVG_Salary = pearsons_r(Q2_df,Q2_df,'BAVG','salary')\n",
    "\n",
    "print(Pearson_BAVG_Salary)"
   ]
  },
  {
   "cell_type": "markdown",
   "metadata": {},
   "source": [
    "It seems that just as was the case with pitchers ERA, batting average and salary are not strongly correlated."
   ]
  },
  {
   "cell_type": "markdown",
   "metadata": {},
   "source": [
    "### Step 4: Illustrating Your Findings\n",
    "\n",
    "Since our findings consist of a set of pearsons R values, we can present these on a bar chart clearly and concisely. We can use this example code from the matplotlib website to accomplish this (https://matplotlib.org/examples/api/barchart_demo.html)"
   ]
  },
  {
   "cell_type": "code",
   "execution_count": 16,
   "metadata": {},
   "outputs": [
    {
     "data": {
      "text/plain": [
       "[<matplotlib.text.Text at 0x8c20c18>,\n",
       " <matplotlib.text.Text at 0x89bbd68>,\n",
       " <matplotlib.text.Text at 0x8ce87b8>]"
      ]
     },
     "execution_count": 16,
     "metadata": {},
     "output_type": "execute_result"
    },
    {
     "data": {
      "image/png": "[encoded data removed]",
      "text/plain": [
       "<matplotlib.figure.Figure at 0x89cadd8>"
      ]
     },
     "metadata": {},
     "output_type": "display_data"
    }
   ],
   "source": [
    "N=3\n",
    "data_to_plot = [Pearson_ERA_Salary,Pearson_IPouts_ER,Pearson_BAVG_Salary]\n",
    "\n",
    "ind = np.arange(N)  # the x locations for the groups\n",
    "#width = 0.3       # the width of the bars\n",
    "\n",
    "fig, ax = plt.subplots()\n",
    "rects = ax.bar(ind, data_to_plot, color='tomato')\n",
    "\n",
    "# add some text for labels, title and axes ticks\n",
    "ax.set_ylabel('Pearsons R Value')\n",
    "ax.set_ylim(-1,1)\n",
    "ax.set_title('Correlation between Pitching/Batting Statistics and Salary')\n",
    "ax.set_xticks(ind)\n",
    "ax.set_xticklabels(('ERA:Salary', 'IPouts:ER', 'BAVG:Salary'))\n",
    "\n",
    "\n"
   ]
  }
 ],
 "metadata": {
  "kernelspec": {
   "display_name": "Python 2",
   "language": "python",
   "name": "python2"
  },
  "language_info": {
   "codemirror_mode": {
    "name": "ipython",
    "version": 2
   },
   "file_extension": ".py",
   "mimetype": "text/x-python",
   "name": "python",
   "nbconvert_exporter": "python",
   "pygments_lexer": "ipython2",
   "version": "2.7.13"
  }
 },
 "nbformat": 4,
 "nbformat_minor": 2
}
